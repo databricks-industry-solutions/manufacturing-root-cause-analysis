{
 "cells": [
  {
   "cell_type": "markdown",
   "metadata": {
    "application/vnd.databricks.v1+cell": {
     "cellMetadata": {},
     "inputWidgets": {},
     "nuid": "c16da34a-0a3a-4373-809d-c1d15fcd2a37",
     "showTitle": false,
     "tableResultSettingsMap": {},
     "title": ""
    }
   },
   "source": [
    "This solution accelerator notebook is available at [Databricks Industry Solutions](https://github.com/databricks-industry-solutions/manufacturing-root-cause-analysis/)."
   ]
  },
  {
   "cell_type": "markdown",
   "metadata": {
    "application/vnd.databricks.v1+cell": {
     "cellMetadata": {},
     "inputWidgets": {},
     "nuid": "757e99a1-1ba9-4e19-b757-a5a512a15822",
     "showTitle": false,
     "tableResultSettingsMap": {},
     "title": ""
    }
   },
   "source": [
    "# Define Causal Relationships\n",
    "\n",
    "In this first notebook, we will:\n",
    "\n",
    "1. Understand the use case.\n",
    "2. Generate a synthetic dataset.\n",
    "3. Construct a causal graph.\n",
    "4. Log the graph to MLflow."
   ]
  },
  {
   "cell_type": "markdown",
   "metadata": {
    "application/vnd.databricks.v1+cell": {
     "cellMetadata": {},
     "inputWidgets": {},
     "nuid": "db959b1e-a7cf-4cc2-b199-a013694087e0",
     "showTitle": false,
     "tableResultSettingsMap": {},
     "title": ""
    }
   },
   "source": [
    "## Cluster configuration\n",
    "We recommend using a cluster with the following or similar specifications to run this solution accelerator:\n",
    "- Unity Catalog enabled cluster\n",
    "- Databricks Runtime 15.4 LTS ML or above\n",
    "- Single-node cluster: e.g. `m5d.2xlarge` on AWS or `Standard_D8ds_v5` on Azure Databricks"
   ]
  },
  {
   "cell_type": "markdown",
   "metadata": {
    "application/vnd.databricks.v1+cell": {
     "cellMetadata": {},
     "inputWidgets": {},
     "nuid": "ba52388d-7f25-4706-90d4-5ab9570aade6",
     "showTitle": false,
     "tableResultSettingsMap": {},
     "title": ""
    }
   },
   "source": [
    "## Install dependencies"
   ]
  },
  {
   "cell_type": "code",
   "execution_count": 0,
   "metadata": {
    "application/vnd.databricks.v1+cell": {
     "cellMetadata": {},
     "inputWidgets": {},
     "nuid": "95fe8da2-642d-4b67-8bc0-91d8e77a029d",
     "showTitle": true,
     "tableResultSettingsMap": {},
     "title": "Install graphviz from nicer visualization"
    }
   },
   "outputs": [],
   "source": [
    "%sh apt-get update && apt-get install -y graphviz graphviz-dev"
   ]
  },
  {
   "cell_type": "markdown",
   "metadata": {
    "application/vnd.databricks.v1+cell": {
     "cellMetadata": {},
     "inputWidgets": {},
     "nuid": "9421d9b1-f160-428a-b03f-68b126fe2d6b",
     "showTitle": false,
     "tableResultSettingsMap": {},
     "title": ""
    }
   },
   "source": [
    "We install the required libraries from the `requirements.txt`."
   ]
  },
  {
   "cell_type": "code",
   "execution_count": 0,
   "metadata": {
    "application/vnd.databricks.v1+cell": {
     "cellMetadata": {},
     "inputWidgets": {},
     "nuid": "20304b8c-3884-4f03-97ea-fb45d55d089c",
     "showTitle": true,
     "tableResultSettingsMap": {},
     "title": "Install requirements"
    }
   },
   "outputs": [],
   "source": [
    "%pip install -r ./requirements.txt --quiet\n",
    "dbutils.library.restartPython()"
   ]
  },
  {
   "cell_type": "markdown",
   "metadata": {
    "application/vnd.databricks.v1+cell": {
     "cellMetadata": {},
     "inputWidgets": {},
     "nuid": "80f61460-3b0e-419a-a481-b6eaf4400d4f",
     "showTitle": false,
     "tableResultSettingsMap": {},
     "title": ""
    }
   },
   "source": [
    "In the next cell, we run the `99_utils` notebook, which defines a few utility functions that we will use along the way."
   ]
  },
  {
   "cell_type": "code",
   "execution_count": 0,
   "metadata": {
    "application/vnd.databricks.v1+cell": {
     "cellMetadata": {},
     "inputWidgets": {},
     "nuid": "c3a6f7b5-59ed-4cf2-95a7-d9a3d9dbfc87",
     "showTitle": true,
     "tableResultSettingsMap": {},
     "title": "Run utils notebook"
    }
   },
   "outputs": [],
   "source": [
    "%run ./99_utils"
   ]
  },
  {
   "cell_type": "markdown",
   "metadata": {
    "application/vnd.databricks.v1+cell": {
     "cellMetadata": {},
     "inputWidgets": {},
     "nuid": "2043301e-2f83-4658-957d-92c64cefdf09",
     "showTitle": false,
     "tableResultSettingsMap": {},
     "title": ""
    }
   },
   "source": [
    "## Define variables and set MLflow experiment"
   ]
  },
  {
   "cell_type": "code",
   "execution_count": 0,
   "metadata": {
    "application/vnd.databricks.v1+cell": {
     "cellMetadata": {},
     "inputWidgets": {},
     "nuid": "3b854d20-8238-4e76-889c-f91ff6261834",
     "showTitle": false,
     "tableResultSettingsMap": {},
     "title": ""
    }
   },
   "outputs": [],
   "source": [
    "import mlflow\n",
    "import pickle\n",
    "import numpy as np\n",
    "import pandas as pd\n",
    "import dowhy\n",
    "import networkx as nx"
   ]
  },
  {
   "cell_type": "code",
   "execution_count": 0,
   "metadata": {
    "application/vnd.databricks.v1+cell": {
     "cellMetadata": {},
     "inputWidgets": {},
     "nuid": "67e83e49-d638-4fc6-8746-d5d0a345bca2",
     "showTitle": false,
     "tableResultSettingsMap": {},
     "title": ""
    }
   },
   "outputs": [],
   "source": [
    "user_name = spark.sql(\"SELECT current_user()\").collect()[0][0]\n",
    "first_name = user_name.split(\".\")[0]\n",
    "catalog = f'causal_solacc_{first_name}'     # Change this to your catalog name\n",
    "schema = f'rca'                             # Change this to your schema name\n",
    "\n",
    "setup_unity_catalog(catalog, schema)"
   ]
  },
  {
   "cell_type": "code",
   "execution_count": 0,
   "metadata": {
    "application/vnd.databricks.v1+cell": {
     "cellMetadata": {},
     "inputWidgets": {},
     "nuid": "0ec85d9c-9604-45c2-a060-c60f6d4438e0",
     "showTitle": false,
     "tableResultSettingsMap": {},
     "title": ""
    }
   },
   "outputs": [],
   "source": [
    "# Set the experiment name\n",
    "experiment_name = f\"/Users/{user_name}/rca_manufacturing\"\n",
    "mlflow.set_experiment(experiment_name)"
   ]
  },
  {
   "cell_type": "markdown",
   "metadata": {
    "application/vnd.databricks.v1+cell": {
     "cellMetadata": {},
     "inputWidgets": {},
     "nuid": "6f47b189-80d6-40dd-aaf7-9fa26019ae59",
     "showTitle": false,
     "tableResultSettingsMap": {},
     "title": ""
    }
   },
   "source": [
    "## Use Case\n",
    "\n",
    "Our goal with causal AI is to identify the true root causes behind a drop in quality, whether in a specific product or a batch of products. This enables us to implement effective measures to counteract these quality deviations, prevent recurrence, minimize waste, and improve overall product quality. In the notebooks, we will explore how to achieve this for a specific manufacturing process shown below. \n",
    "\n",
    "The process flow shows how different factors influence product quality:\n",
    "\n",
    "1. **Input Factors**:\n",
    "   - Worker (Manual Operator)\n",
    "   - Machine Settings\n",
    "   - Material Properties\n",
    "   - Environment* (Temperature, Pressure, Humidity in the Chamber)\n",
    "\n",
    "2. **Process Measurements**:\n",
    "   - Position & Alignment\n",
    "   - Force & Torque\n",
    "   - Temperature\n",
    "\n",
    "3. **Quality Checks**:\n",
    "   - Dimensions\n",
    "   - Torque Checks\n",
    "   - Visual Inspection\n",
    "\n",
    "These factors combine to determine the final quality outcome. When quality drops unexpectedly, we'll use DoWhy to trace the root cause through these causal relationships."
   ]
  },
  {
   "cell_type": "code",
   "execution_count": 0,
   "metadata": {
    "application/vnd.databricks.v1+cell": {
     "cellMetadata": {},
     "inputWidgets": {},
     "nuid": "53a2fa5a-a82e-4790-901e-00a621655320",
     "showTitle": false,
     "tableResultSettingsMap": {},
     "title": ""
    }
   },
   "outputs": [],
   "source": [
    "from IPython.display import Image, display\n",
    "display(Image('./images/manufacturing-process-A-simplified.png', width=1000))"
   ]
  },
  {
   "cell_type": "markdown",
   "metadata": {
    "application/vnd.databricks.v1+cell": {
     "cellMetadata": {},
     "inputWidgets": {},
     "nuid": "92fbdf02-2d95-4295-82b5-bab016a51068",
     "showTitle": false,
     "tableResultSettingsMap": {},
     "title": ""
    }
   },
   "source": [
    "## Example Cause-Effect Relationships\n",
    "\n",
    "For this manufacturing example, domain experts identified the following relationships. Note that these relationships are specific to this use case - other manufacturing processes or domains may have different causal relationships that can be analyzed using the same methodology.\n",
    "\n",
    "**Process Inputs → Measurements**\n",
    "- Worker & Machine → Position & Alignment\n",
    "  - Worker skill level and experience affects positioning precision\n",
    "  - Machine settings influence alignment accuracy\n",
    "\n",
    "- Raw Material & Material → Force & Torque\n",
    "  - Material properties from different suppliers require varying processing forces\n",
    "  - Raw material characteristics affect required torque levels\n",
    "\n",
    "- Environment → Temperature\n",
    "  - Chamber conditions (temperature, humidity, pressure) affect interface temperature\n",
    "  - Higher humidity may cause cooling through condensation\n",
    "\n",
    "**Measurements → Quality Checks**\n",
    "- Position & Alignment → Dimensions\n",
    "  - Misalignment leads to dimensional failures\n",
    "\n",
    "- Force & Torque → Dimensions & Torque\n",
    "  - Excessive force may cause dimensional issues\n",
    "  - Insufficient force causes weak joints (fails torque check)\n",
    "  \n",
    "- Temperature → Visual & Torque\n",
    "  - High temperatures can cause visible defects\n",
    "  - Low temperatures may result in weak bonds\n",
    "\n",
    "**Final Quality**\n",
    "- Any failed check (Dimensions, Torque, Visual) results in overall quality failure\n",
    "\n",
    "This causal graph structure allows us to trace quality issues back to their root causes. The same methodology can be applied to other processes by adapting the variables and relationships to the specific context."
   ]
  },
  {
   "cell_type": "markdown",
   "metadata": {
    "application/vnd.databricks.v1+cell": {
     "cellMetadata": {},
     "inputWidgets": {},
     "nuid": "31694899-3f59-4f55-a97d-aaa2735263d4",
     "showTitle": false,
     "tableResultSettingsMap": {},
     "title": ""
    }
   },
   "source": [
    "## Generate data\n",
    "\n",
    "Because this is a fictitious use case, we generate a synthetic dataset that aligns with our causal graph. Performing causal analysis on a synthetic dataset allows us to validate the approach and better understand the technique. After generating the dataset, we store it in a Delta table for later use. For more details, refer to the `generate_data` function in the `99_utils` notebook."
   ]
  },
  {
   "cell_type": "code",
   "execution_count": 0,
   "metadata": {
    "application/vnd.databricks.v1+cell": {
     "cellMetadata": {},
     "inputWidgets": {},
     "nuid": "4581fb07-2308-4cc7-8f6a-06c5f8a9e54e",
     "showTitle": false,
     "tableResultSettingsMap": {},
     "title": ""
    }
   },
   "outputs": [],
   "source": [
    "X = generate_data(catalog, schema, 1000)\n",
    "\n",
    "display(X)"
   ]
  },
  {
   "cell_type": "markdown",
   "metadata": {
    "application/vnd.databricks.v1+cell": {
     "cellMetadata": {},
     "inputWidgets": {},
     "nuid": "b246f5dd-76d1-4af4-8292-74a27b0add80",
     "showTitle": false,
     "tableResultSettingsMap": {},
     "title": ""
    }
   },
   "source": [
    "## Generate a causal graph\n",
    "\n",
    "From the relationships identified with our domain experts, we will construct our causal graph using the `DiGraph` class from the `networkx` package. Here the package `graphviz` and `pygraphviz` give us a nicely formatted DAG show below. "
   ]
  },
  {
   "cell_type": "code",
   "execution_count": 0,
   "metadata": {
    "application/vnd.databricks.v1+cell": {
     "cellMetadata": {},
     "inputWidgets": {},
     "nuid": "7118e068-a4dc-494a-8950-ae4056edd915",
     "showTitle": false,
     "tableResultSettingsMap": {},
     "title": ""
    }
   },
   "outputs": [],
   "source": [
    "true_graph = nx.DiGraph()\n",
    "true_graph.add_nodes_from = X.columns\n",
    "\n",
    "dependencies = {\n",
    "        \"position_alignment\": ['worker', 'machine'],\n",
    "        \"force_torque\": ['raw_material', 'machine', 'material'],\n",
    "        \"temperature\": ['chamber_temperature', 'chamber_humidity', 'chamber_pressure'],\n",
    "        \"dimensions\": ['position_alignment', 'force_torque'],\n",
    "        \"torque_checks\": ['force_torque', 'temperature'],\n",
    "        \"visual_inspection\": ['temperature'],\n",
    "        \"quality\": ['dimensions', 'torque_checks', 'visual_inspection'],\n",
    "    }\n",
    "\n",
    "for child in dependencies:\n",
    "    for parent in dependencies[child]:\n",
    "        true_graph.add_edge(parent, child)\n",
    "\n",
    "dowhy.gcm.util.plot(true_graph, figure_size=(20, 20))"
   ]
  },
  {
   "cell_type": "markdown",
   "metadata": {
    "application/vnd.databricks.v1+cell": {
     "cellMetadata": {},
     "inputWidgets": {},
     "nuid": "ee50efe2-e864-42a1-b21a-c6b9062ef757",
     "showTitle": false,
     "tableResultSettingsMap": {},
     "title": ""
    }
   },
   "source": [
    "We established the causal relationships between our variables in collaboration with domain experts. However, this process is not always straightforward, as scheduling time with experts can be costly, and even they may not have full knowledge of all the details. In such situations, we can turn to automated causal discovery algorithms. While these algorithms typically do not produce a perfect graph, they can serve as a valuable starting point. For more details, refer to the section `Appendix A` in the notebook `05_appendix`."
   ]
  },
  {
   "cell_type": "markdown",
   "metadata": {
    "application/vnd.databricks.v1+cell": {
     "cellMetadata": {},
     "inputWidgets": {},
     "nuid": "f1c0bc91-df66-4a29-b874-dd9681063d6f",
     "showTitle": false,
     "tableResultSettingsMap": {},
     "title": ""
    }
   },
   "source": [
    "## Log the causal graph to MLflow\n",
    "\n",
    "Because this graph will be used in subsequent notebooks, we will log it as an artifact using `MLflow`."
   ]
  },
  {
   "cell_type": "code",
   "execution_count": 0,
   "metadata": {
    "application/vnd.databricks.v1+cell": {
     "cellMetadata": {},
     "inputWidgets": {},
     "nuid": "634fdcc4-f1ee-473b-a43b-27dd10dab420",
     "showTitle": false,
     "tableResultSettingsMap": {},
     "title": ""
    }
   },
   "outputs": [],
   "source": [
    "with mlflow.start_run(run_name=\"causal_graph\") as run:\n",
    "    \n",
    "    # save graph object to file\n",
    "    pickle.dump(true_graph, open('/databricks/driver/causal_graph.pickle', 'wb'))\n",
    "\n",
    "    # log the pickle file to mlflow\n",
    "    mlflow.log_artifact(\"/databricks/driver/causal_graph.pickle\", artifact_path=\"graph\")"
   ]
  },
  {
   "cell_type": "markdown",
   "metadata": {
    "application/vnd.databricks.v1+cell": {
     "cellMetadata": {},
     "inputWidgets": {},
     "nuid": "c57248b7-02f1-4b60-a08d-4b4321fe87d9",
     "showTitle": false,
     "tableResultSettingsMap": {},
     "title": ""
    }
   },
   "source": [
    "## Wrap up\n",
    "\n",
    "In this notebook, we explored a manufacturing production line as an example use case. We generated a synthetic dataset, created a causal graph, and logged the graph using MLflow. These steps reflect the initial stages of a causal AI project for root cause analysis: understanding the use case, collecting data, gathering insights from domain experts and establishing causal relationships while logging all created artifacts along the way.\n",
    "\n",
    "In the next notebook, `02_causal_modeling`, we will delve into integrating the causal graph with observational data (in our case, the synthetic dataset)."
   ]
  },
  {
   "cell_type": "markdown",
   "metadata": {
    "application/vnd.databricks.v1+cell": {
     "cellMetadata": {},
     "inputWidgets": {},
     "nuid": "4b6041dd-64bb-40ef-afe3-f1ccf4d0b588",
     "showTitle": false,
     "tableResultSettingsMap": {},
     "title": ""
    }
   },
   "source": [
    "© 2025 Databricks, Inc. All rights reserved. The source in this notebook is provided subject to the Databricks License. All included or referenced third party libraries are subject to the licenses set forth below.\n",
    "\n",
    "| library                                | description             | license    | source                                              |\n",
    "|----------------------------------------|-------------------------|------------|-----------------------------------------------------|\n",
    "| Graphviz | An open source graph visualization software | Common Public License Version 1.0 | https://graphviz.org/download/\n",
    "| pygraphviz | A Python interface to the Graphviz graph layout and visualization package | BSD | https://pypi.org/project/pygraphviz/\n",
    "| networkx | A Python package for the creation, manipulation, and study of the structure, dynamics, and functions of complex networks. | BSD | https://pypi.org/project/networkx/\n",
    "| dowhy | A Python library for causal inference that supports explicit modeling and testing of causal assumptions | MIT | https://pypi.org/project/dowhy/\n",
    "| causal-learn | A python package for causal discovery that implements both classical and state-of-the-art causal discovery algorithms, which is a Python translation and extension of Tetrad. | MIT | https://pypi.org/project/causal-learn/\n",
    "| lime | Local Interpretable Model-Agnostic Explanations for machine learning classifiers | BSD | https://pypi.org/project/lime/\n",
    "| shap | A unified approach to explain the output of any machine learning model | MIT | https://pypi.org/project/shap/"
   ]
  }
 ],
 "metadata": {
  "application/vnd.databricks.v1+notebook": {
   "computePreferences": null,
   "dashboards": [],
   "environmentMetadata": null,
   "inputWidgetPreferences": null,
   "language": "python",
   "notebookMetadata": {
    "pythonIndentUnit": 2
   },
   "notebookName": "01_causal_graph",
   "widgets": {}
  },
  "language_info": {
   "name": "python"
  }
 },
 "nbformat": 4,
 "nbformat_minor": 0
}
